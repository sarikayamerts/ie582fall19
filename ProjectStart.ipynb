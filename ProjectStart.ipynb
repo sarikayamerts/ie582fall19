{
 "cells": [
  {
   "cell_type": "code",
   "execution_count": 168,
   "metadata": {},
   "outputs": [
    {
     "name": "stderr",
     "output_type": "stream",
     "text": [
      "\n",
      "A value is trying to be set on a copy of a slice from a DataFrame.\n",
      "Try using .loc[row_indexer,col_indexer] = value instead\n",
      "\n",
      "See the caveats in the documentation: http://pandas.pydata.org/pandas-docs/stable/user_guide/indexing.html#returning-a-view-versus-a-copy\n",
      "\n",
      "A value is trying to be set on a copy of a slice from a DataFrame.\n",
      "Try using .loc[row_indexer,col_indexer] = value instead\n",
      "\n",
      "See the caveats in the documentation: http://pandas.pydata.org/pandas-docs/stable/user_guide/indexing.html#returning-a-view-versus-a-copy\n"
     ]
    }
   ],
   "source": [
    "import pandas as pd\n",
    "import numpy as np\n",
    "import matplotlib.pyplot as plt\n",
    "\n",
    "from sklearn.metrics import accuracy_score\n",
    "from sklearn.model_selection import train_test_split\n",
    "\n",
    "from helpers.bookmaker_selection import find_bookies_to_keep\n",
    "from helpers.features import generate_bet_features, generate_match_features\n",
    "from helpers.utils import data_prepare\n",
    "from model import (rf_classification, rf_regression)\n",
    "\n",
    "bookies_to_keep = find_bookies_to_keep('2018-01-01', '2019-12-25', 0.975)\n",
    "\n",
    "bets_df = generate_bet_features(bookies_to_keep, na_ratio=0.15)\n",
    "matches_df, test_match_ids = generate_match_features('2019-11-29', '2019-12-27')\n",
    "\n",
    "final_df = data_prepare(bets_df, matches_df)\n",
    "\n",
    "X_train = final_df[~final_df[\"match_id\"].isin(test_match_ids)]\n",
    "y_train = X_train[[\"result\"]]\n",
    "\n",
    "X_train = X_train.drop([\"match_id\", \"over_under\", \"total_score\", \"result\"], axis=1)\n",
    "y_train = final_df[~final_df[\"match_id\"].isin(test_match_ids)][[\"result\"]]\n",
    "\n",
    "X_test = final_df[final_df['match_id'].isin(test_match_ids)]\n",
    "y_test = X_test[[\"result\"]]\n",
    "X_test = X_test.drop([\"match_id\", \"over_under\", \"total_score\", \"result\"], axis=1)\n"
   ]
  },
  {
   "cell_type": "code",
   "execution_count": 2,
   "metadata": {},
   "outputs": [],
   "source": [
    "import matplotlib.pyplot as plt\n"
   ]
  },
  {
   "cell_type": "code",
   "execution_count": 3,
   "metadata": {},
   "outputs": [],
   "source": [
    "from sklearn.ensemble import RandomForestClassifier\n",
    "from sklearn.model_selection import GridSearchCV, StratifiedKFold\n",
    "from sklearn.pipeline import Pipeline\n",
    "from sklearn.preprocessing import StandardScaler\n",
    "from sklearn.decomposition import PCA\n",
    "from helpers.utils import rps_metric\n",
    "from sklearn.metrics import make_scorer\n",
    "\n",
    "scaler = StandardScaler()\n",
    "pca = PCA()\n",
    "rf = RandomForestClassifier(random_state=42, oob_score = True)\n",
    "\n",
    "pipe = Pipeline(steps=[('rf', rf)])\n",
    "param_grid = { \n",
    "    'bootstrap': [True],\n",
    "    'ccp_alpha': [0],\n",
    "    'n_estimators': [500],\n",
    "    'max_features': ['sqrt'],\n",
    "    'min_samples_leaf' : [10],\n",
    "    'max_depth' : [10]\n",
    "}\n",
    "\n",
    "kfold = StratifiedKFold(n_splits=8, shuffle=True, random_state=7)\n",
    "scorer = make_scorer(rps_metric, \n",
    "                     greater_is_better=False, \n",
    "                     needs_proba=True)\n",
    "\n",
    "search = GridSearchCV(rf, param_grid, \n",
    "                      cv=kfold, \n",
    "                      scoring = scorer, \n",
    "                      n_jobs=-1,\n",
    "                      verbose=2)"
   ]
  },
  {
   "cell_type": "code",
   "execution_count": 4,
   "metadata": {},
   "outputs": [
    {
     "name": "stdout",
     "output_type": "stream",
     "text": [
      "Fitting 8 folds for each of 1 candidates, totalling 8 fits\n"
     ]
    },
    {
     "name": "stderr",
     "output_type": "stream",
     "text": [
      "[Parallel(n_jobs=-1)]: Using backend LokyBackend with 4 concurrent workers.\n",
      "[Parallel(n_jobs=-1)]: Done   6 out of   8 | elapsed:   38.3s remaining:   12.7s\n",
      "[Parallel(n_jobs=-1)]: Done   8 out of   8 | elapsed:   38.6s finished\n",
      "C:\\Users\\erdem.banak\\AppData\\Local\\Continuum\\anaconda3\\envs\\erdem\\lib\\site-packages\\sklearn\\model_selection\\_search.py:741: DataConversionWarning: A column-vector y was passed when a 1d array was expected. Please change the shape of y to (n_samples,), for example using ravel().\n",
      "  self.best_estimator_.fit(X, y, **fit_params)\n"
     ]
    },
    {
     "data": {
      "text/plain": [
       "GridSearchCV(cv=StratifiedKFold(n_splits=8, random_state=7, shuffle=True),\n",
       "             error_score=nan,\n",
       "             estimator=RandomForestClassifier(bootstrap=True, ccp_alpha=0.0,\n",
       "                                              class_weight=None,\n",
       "                                              criterion='gini', max_depth=None,\n",
       "                                              max_features='auto',\n",
       "                                              max_leaf_nodes=None,\n",
       "                                              max_samples=None,\n",
       "                                              min_impurity_decrease=0.0,\n",
       "                                              min_impurity_split=None,\n",
       "                                              min_samples_leaf=1,\n",
       "                                              min_samples_split=2,\n",
       "                                              min_...\n",
       "                                              oob_score=True, random_state=42,\n",
       "                                              verbose=0, warm_start=False),\n",
       "             iid='deprecated', n_jobs=-1,\n",
       "             param_grid={'bootstrap': [True], 'ccp_alpha': [0],\n",
       "                         'max_depth': [10], 'max_features': ['sqrt'],\n",
       "                         'min_samples_leaf': [10], 'n_estimators': [500]},\n",
       "             pre_dispatch='2*n_jobs', refit=True, return_train_score=False,\n",
       "             scoring=make_scorer(rps_metric, greater_is_better=False, needs_proba=True),\n",
       "             verbose=2)"
      ]
     },
     "execution_count": 4,
     "metadata": {},
     "output_type": "execute_result"
    }
   ],
   "source": [
    "search.fit(X_train, y_train)"
   ]
  },
  {
   "cell_type": "markdown",
   "metadata": {},
   "source": [
    "For dimensionality reduction, we have used 2 steps. This was based on several trials between using PCA and PLS. First, we fit a random forest to the data with all the columns. Then, we are eliminating columns based on the SHAP values.\n",
    "\n",
    "We decided to go with the SHAP values since it takes the average gain over permutations of columns. It provides us a better understanding of importance of a column.\n",
    "\n",
    "https://papers.nips.cc/paper/7062-a-unified-approach-to-interpreting-model-predictions.pdf\n",
    "\n",
    "After this step, we still have around ~100 columns (cutting point was decided random; cutted from a point and checked the performance). After this point, we have used PLS. PLS is a linear transformation method, but while doing that it maximizes the covariance between response and predictors. We have tried PCA and PLS and decided to go with PLS for this step."
   ]
  },
  {
   "cell_type": "code",
   "execution_count": 5,
   "metadata": {},
   "outputs": [
    {
     "name": "stderr",
     "output_type": "stream",
     "text": [
      "Setting feature_perturbation = \"tree_path_dependent\" because no background data was given.\n"
     ]
    },
    {
     "data": {
      "image/png": "[encoded data removed]",
      "text/plain": [
       "<Figure size 576x684 with 1 Axes>"
      ]
     },
     "metadata": {
      "needs_background": "light"
     },
     "output_type": "display_data"
    }
   ],
   "source": [
    "import shap\n",
    "model = search.best_estimator_\n",
    "shap_values = shap.TreeExplainer(model).shap_values(X_train)\n",
    "shap.summary_plot(shap_values, X_train, plot_type=\"bar\")\n"
   ]
  },
  {
   "cell_type": "code",
   "execution_count": 7,
   "metadata": {},
   "outputs": [],
   "source": [
    "vals= np.abs(shap_values).mean(0)\n",
    "vals = sum(vals)\n",
    "feature_importance = pd.DataFrame(list(zip(X_train.columns,vals)),columns=['col_name','feature_importance_vals'])\n",
    "feature_importance.sort_values(by=['feature_importance_vals'],ascending=False,inplace=True)\n",
    "feature_importance.head(50)\n",
    "\n",
    "cols_to_keep = feature_importance.loc[feature_importance[\"feature_importance_vals\"] > 1.5, \"col_name\"].tolist()"
   ]
  },
  {
   "cell_type": "code",
   "execution_count": 8,
   "metadata": {},
   "outputs": [],
   "source": [
    "X_train_sel = X_train[[c for c in X_train.columns if c in cols_to_keep]]\n",
    "X_test_sel = X_test[[c for c in X_train.columns if c in cols_to_keep]]"
   ]
  },
  {
   "cell_type": "code",
   "execution_count": 10,
   "metadata": {},
   "outputs": [],
   "source": [
    "from sklearn.cross_decomposition import PLSRegression\n",
    "\n",
    "pls2 = PLSRegression(n_components=20)\n",
    "\n",
    "y_train_pls = y_train.copy()\n",
    "y_train_pls.loc[y_train_pls[\"result\"] == 1, \"Home\"] = 1\n",
    "y_train_pls.loc[y_train_pls[\"result\"] != 1, \"Home\"] = 0\n",
    "y_train_pls.loc[y_train_pls[\"result\"] == 2, \"Away\"] = 1\n",
    "y_train_pls.loc[y_train_pls[\"result\"] != 2, \"Away\"] = 0\n",
    "y_train_pls.loc[y_train_pls[\"result\"] == 0, \"Draw\"] = 1\n",
    "y_train_pls.loc[y_train_pls[\"result\"] != 0, \"Draw\"] = 0\n",
    "\n",
    "pls2.fit(X_train_sel, y_train_pls[[\"Home\", \"Away\", \"Draw\"]])\n",
    "\n",
    "\n",
    "\n",
    "X_train_pls = pls2.transform(X_train_sel)\n",
    "X_test_pls = pls2.transform(X_test_sel)"
   ]
  },
  {
   "cell_type": "markdown",
   "metadata": {},
   "source": [
    "We have tried different methods (LDA, SVM, ordinal regression, logistic regression, random forest, XGBOOST). XGBOOST had the highest performance with logistic regression coming second.\n",
    "\n",
    "We also tried using ensemble methods using mlens library. We ended up over-fitting, therefore we sticked on XGBOOST. Writing an ensemble method was another option. Train error for random forest and XGBOOST are quite lower than other methods. Therefore using a linear regression on train errors ended up with overfitting."
   ]
  },
  {
   "cell_type": "code",
   "execution_count": 32,
   "metadata": {},
   "outputs": [],
   "source": [
    "rf = RandomForestClassifier(random_state=42, oob_score = True)\n",
    "\n",
    "pipe = Pipeline(steps=[('rf', rf)])\n",
    "param_grid = { \n",
    "    'bootstrap': [True],\n",
    "    'ccp_alpha': [0],\n",
    "    'n_estimators': [1000],\n",
    "    'max_features': [None],\n",
    "    'min_samples_leaf' : [20],\n",
    "    'max_depth' : [8]\n",
    "}\n",
    "\n",
    "kfold = StratifiedKFold(n_splits=8, shuffle=True, random_state=7)\n",
    "scorer = make_scorer(rps_metric, \n",
    "                     greater_is_better=False, \n",
    "                     needs_proba=True)\n",
    "\n",
    "search = GridSearchCV(rf, param_grid, \n",
    "                      cv=kfold, \n",
    "                      scoring = scorer, \n",
    "                      n_jobs=-1,\n",
    "                      verbose=2)"
   ]
  },
  {
   "cell_type": "code",
   "execution_count": 195,
   "metadata": {},
   "outputs": [
    {
     "name": "stdout",
     "output_type": "stream",
     "text": [
      "Fitting 8 folds for each of 2 candidates, totalling 16 fits\n"
     ]
    },
    {
     "name": "stderr",
     "output_type": "stream",
     "text": [
      "[Parallel(n_jobs=-1)]: Using backend LokyBackend with 4 concurrent workers.\n",
      "[Parallel(n_jobs=-1)]: Done  16 out of  16 | elapsed:  3.6min finished\n",
      "A column-vector y was passed when a 1d array was expected. Please change the shape of y to (n_samples,), for example using ravel().\n"
     ]
    },
    {
     "data": {
      "text/plain": [
       "GridSearchCV(cv=StratifiedKFold(n_splits=8, random_state=7, shuffle=True),\n",
       "             error_score=nan,\n",
       "             estimator=RandomForestClassifier(bootstrap=True, ccp_alpha=0.0,\n",
       "                                              class_weight=None,\n",
       "                                              criterion='gini', max_depth=None,\n",
       "                                              max_features='auto',\n",
       "                                              max_leaf_nodes=None,\n",
       "                                              max_samples=None,\n",
       "                                              min_impurity_decrease=0.0,\n",
       "                                              min_impurity_split=None,\n",
       "                                              min_samples_leaf=1,\n",
       "                                              min_samples_split=2,\n",
       "                                              min_...\n",
       "                                              oob_score=True, random_state=42,\n",
       "                                              verbose=0, warm_start=False),\n",
       "             iid='deprecated', n_jobs=-1,\n",
       "             param_grid={'bootstrap': [True], 'ccp_alpha': [0],\n",
       "                         'max_depth': [8], 'max_features': [None],\n",
       "                         'min_samples_leaf': [20],\n",
       "                         'n_estimators': [1000, 1500]},\n",
       "             pre_dispatch='2*n_jobs', refit=True, return_train_score=False,\n",
       "             scoring=make_scorer(rps_metric, greater_is_better=False, needs_proba=True),\n",
       "             verbose=2)"
      ]
     },
     "execution_count": 195,
     "metadata": {},
     "output_type": "execute_result"
    }
   ],
   "source": [
    "search.fit(X_train_pls, y_train)"
   ]
  },
  {
   "cell_type": "code",
   "execution_count": 197,
   "metadata": {},
   "outputs": [
    {
     "name": "stdout",
     "output_type": "stream",
     "text": [
      "0.16388441303494306\n",
      "0.21415022222222227\n",
      "-0.2054717788859644\n"
     ]
    }
   ],
   "source": [
    "rf_train = search.predict_proba(X_train_pls)\n",
    "\n",
    "print(rps_metric(y_train, rf_train))\n",
    "\n",
    "rf_test = search.predict_proba(X_test_pls)\n",
    "\n",
    "print(rps_metric(y_test, rf_test))\n",
    "\n",
    "print(search.best_score_)"
   ]
  },
  {
   "cell_type": "code",
   "execution_count": 31,
   "metadata": {},
   "outputs": [
    {
     "data": {
      "text/plain": [
       "{'bootstrap': True,\n",
       " 'ccp_alpha': 0,\n",
       " 'max_depth': 8,\n",
       " 'max_features': None,\n",
       " 'min_samples_leaf': 20,\n",
       " 'n_estimators': 1000}"
      ]
     },
     "execution_count": 31,
     "metadata": {},
     "output_type": "execute_result"
    }
   ],
   "source": [
    "search.best_params_\n",
    "#search.best_score_"
   ]
  },
  {
   "cell_type": "code",
   "execution_count": 192,
   "metadata": {},
   "outputs": [
    {
     "name": "stderr",
     "output_type": "stream",
     "text": [
      "A column-vector y was passed when a 1d array was expected. Please change the shape of y to (n_samples, ), for example using ravel().\n"
     ]
    },
    {
     "name": "stdout",
     "output_type": "stream",
     "text": [
      "0.18584176285826462\n",
      "0.21515644444444443\n"
     ]
    }
   ],
   "source": [
    "from sklearn.discriminant_analysis import LinearDiscriminantAnalysis as LDA\n",
    "\n",
    "lda = LDA(solver = \"eigen\", shrinkage = \"auto\")\n",
    "\n",
    "model = lda.fit(X_train, y_train)\n",
    "\n",
    "lda_train = model.predict_proba(X_train)\n",
    "print(rps_metric(y_train, lda_train))\n",
    "\n",
    "lda_test = model.predict_proba(X_test)\n",
    "print(rps_metric(y_test, lda_test))\n"
   ]
  },
  {
   "cell_type": "code",
   "execution_count": 60,
   "metadata": {},
   "outputs": [
    {
     "name": "stdout",
     "output_type": "stream",
     "text": [
      "0.19819452296819787\n",
      "0.22033866666666665\n"
     ]
    },
    {
     "name": "stderr",
     "output_type": "stream",
     "text": [
      "A column-vector y was passed when a 1d array was expected. Please change the shape of y to (n_samples, ), for example using ravel().\n"
     ]
    },
    {
     "ename": "NameError",
     "evalue": "name 'X_train_PCA' is not defined",
     "output_type": "error",
     "traceback": [
      "\u001b[1;31m---------------------------------------------------------------------------\u001b[0m",
      "\u001b[1;31mNameError\u001b[0m                                 Traceback (most recent call last)",
      "\u001b[1;32m<ipython-input-60-f26faac95056>\u001b[0m in \u001b[0;36m<module>\u001b[1;34m\u001b[0m\n\u001b[0;32m      7\u001b[0m \u001b[0mprint\u001b[0m\u001b[1;33m(\u001b[0m\u001b[0mrps_metric\u001b[0m\u001b[1;33m(\u001b[0m\u001b[0my_test\u001b[0m\u001b[1;33m[\u001b[0m\u001b[1;36m0\u001b[0m\u001b[1;33m:\u001b[0m\u001b[1;36m30\u001b[0m\u001b[1;33m]\u001b[0m\u001b[1;33m,\u001b[0m \u001b[0mlda_res\u001b[0m\u001b[1;33m[\u001b[0m\u001b[1;36m0\u001b[0m\u001b[1;33m:\u001b[0m\u001b[1;36m30\u001b[0m\u001b[1;33m]\u001b[0m\u001b[1;33m)\u001b[0m\u001b[1;33m)\u001b[0m\u001b[1;33m\u001b[0m\u001b[1;33m\u001b[0m\u001b[0m\n\u001b[0;32m      8\u001b[0m \u001b[1;33m\u001b[0m\u001b[0m\n\u001b[1;32m----> 9\u001b[1;33m \u001b[0mmodel\u001b[0m \u001b[1;33m=\u001b[0m \u001b[0mlda\u001b[0m\u001b[1;33m.\u001b[0m\u001b[0mfit\u001b[0m\u001b[1;33m(\u001b[0m\u001b[0mX_train_PCA\u001b[0m\u001b[1;33m,\u001b[0m \u001b[0my_train\u001b[0m\u001b[1;33m)\u001b[0m\u001b[1;33m\u001b[0m\u001b[1;33m\u001b[0m\u001b[0m\n\u001b[0m\u001b[0;32m     10\u001b[0m \u001b[1;33m\u001b[0m\u001b[0m\n\u001b[0;32m     11\u001b[0m \u001b[0mlda_res\u001b[0m \u001b[1;33m=\u001b[0m \u001b[0mmodel\u001b[0m\u001b[1;33m.\u001b[0m\u001b[0mpredict_proba\u001b[0m\u001b[1;33m(\u001b[0m\u001b[0mX_train_PCA\u001b[0m\u001b[1;33m)\u001b[0m\u001b[1;33m\u001b[0m\u001b[1;33m\u001b[0m\u001b[0m\n",
      "\u001b[1;31mNameError\u001b[0m: name 'X_train_PCA' is not defined"
     ]
    }
   ],
   "source": [
    "model = lda.fit(X_train_pls, y_train)\n",
    "\n",
    "lda_res = model.predict_proba(X_train_pls)\n",
    "print(rps_metric(y_train, lda_res))\n",
    "\n",
    "lda_res = model.predict_proba(X_test_pls)\n",
    "print(rps_metric(y_test[0:30], lda_res[0:30]))\n",
    "\n",
    "model = lda.fit(X_train_PCA, y_train)\n",
    "\n",
    "lda_res = model.predict_proba(X_train_PCA)\n",
    "print(rps_metric(y_train, lda_res))\n",
    "\n",
    "lda_res = model.predict_proba(X_test_PCA)\n",
    "print(rps_metric(y_test, lda_res))\n"
   ]
  },
  {
   "cell_type": "code",
   "execution_count": 180,
   "metadata": {},
   "outputs": [
    {
     "name": "stderr",
     "output_type": "stream",
     "text": [
      "A column-vector y was passed when a 1d array was expected. Please change the shape of y to (n_samples, ), for example using ravel().\n"
     ]
    },
    {
     "name": "stdout",
     "output_type": "stream",
     "text": [
      "0.2051357636435022\n",
      "0.2246466666666667\n"
     ]
    }
   ],
   "source": [
    "from sklearn import svm\n",
    "\n",
    "svm_model = svm.SVC(decision_function_shape='ovo', probability = True)\n",
    "\n",
    "svm_model.fit(X_train_pls, y_train)\n",
    "\n",
    "svm_p = svm_model.predict_proba(X_train_pls)\n",
    "print(rps_metric(y_train, svm_p))\n",
    "\n",
    "svm_p = svm_model.predict_proba(X_test_pls)\n",
    "print(rps_metric(y_test, svm_p))\n"
   ]
  },
  {
   "cell_type": "code",
   "execution_count": 38,
   "metadata": {},
   "outputs": [],
   "source": [
    "from sklearn.linear_model import LinearRegression, LogisticRegression\n",
    "from mord import LogisticAT, LogisticIT\n",
    "\n",
    "model_multi = LogisticRegression(multi_class='multinomial',\n",
    "    solver='lbfgs',\n",
    "    class_weight='balanced')\n",
    "model_ordinal = LogisticAT(alpha= 100)\n",
    "\n"
   ]
  },
  {
   "cell_type": "code",
   "execution_count": 204,
   "metadata": {},
   "outputs": [
    {
     "name": "stdout",
     "output_type": "stream",
     "text": [
      "0.20070784452296822\n",
      "0.21381244444444444\n"
     ]
    }
   ],
   "source": [
    "y_check = y_train.copy()\n",
    "y_check.loc[y_check[\"result\"] == 0, \"result\"] = -2\n",
    "y_check.loc[y_check[\"result\"] == 1, \"result\"] = 0\n",
    "y_check.loc[y_check[\"result\"] == -2, \"result\"] = 1\n",
    "\n",
    "model_ordinal.fit(X_train_pls, np.ravel(y_check))\n",
    "ordinal_train = model_ordinal.predict_proba(X_train_pls)\n",
    "ordinal_train = [np.concatenate([m[:2][::-1], m[2:]]) for m in ordinal_train]\n",
    "\n",
    "print(rps_metric(y_train, ordinal_train))\n",
    "\n",
    "ordinal_test = model_ordinal.predict_proba(X_test_pls)\n",
    "ordinal_test = [np.concatenate([m[:2][::-1], m[2:]]) for m in ordinal_test]\n",
    "\n",
    "print(rps_metric(y_test, ordinal_test))"
   ]
  },
  {
   "cell_type": "code",
   "execution_count": 200,
   "metadata": {},
   "outputs": [
    {
     "ename": "NameError",
     "evalue": "name 'y_check' is not defined",
     "output_type": "error",
     "traceback": [
      "\u001b[1;31m---------------------------------------------------------------------------\u001b[0m",
      "\u001b[1;31mNameError\u001b[0m                                 Traceback (most recent call last)",
      "\u001b[1;32m<ipython-input-200-d56bae1df052>\u001b[0m in \u001b[0;36m<module>\u001b[1;34m\u001b[0m\n\u001b[1;32m----> 1\u001b[1;33m \u001b[0mmodel_ordinal\u001b[0m\u001b[1;33m.\u001b[0m\u001b[0mfit\u001b[0m\u001b[1;33m(\u001b[0m\u001b[0mX_train_pls\u001b[0m\u001b[1;33m,\u001b[0m \u001b[0mnp\u001b[0m\u001b[1;33m.\u001b[0m\u001b[0mravel\u001b[0m\u001b[1;33m(\u001b[0m\u001b[0my_check\u001b[0m\u001b[1;33m)\u001b[0m\u001b[1;33m)\u001b[0m\u001b[1;33m\u001b[0m\u001b[1;33m\u001b[0m\u001b[0m\n\u001b[0m\u001b[0;32m      2\u001b[0m \u001b[1;33m\u001b[0m\u001b[0m\n\u001b[0;32m      3\u001b[0m \u001b[0mordinal_train\u001b[0m \u001b[1;33m=\u001b[0m \u001b[0mmodel_ordinal\u001b[0m\u001b[1;33m.\u001b[0m\u001b[0mpredict_proba\u001b[0m\u001b[1;33m(\u001b[0m\u001b[0mX_test_pls\u001b[0m\u001b[1;33m)\u001b[0m\u001b[1;33m\u001b[0m\u001b[1;33m\u001b[0m\u001b[0m\n\u001b[0;32m      4\u001b[0m \u001b[0mordinal_train\u001b[0m \u001b[1;33m=\u001b[0m \u001b[1;33m[\u001b[0m\u001b[0mnp\u001b[0m\u001b[1;33m.\u001b[0m\u001b[0mconcatenate\u001b[0m\u001b[1;33m(\u001b[0m\u001b[1;33m[\u001b[0m\u001b[0mm\u001b[0m\u001b[1;33m[\u001b[0m\u001b[1;33m:\u001b[0m\u001b[1;36m2\u001b[0m\u001b[1;33m]\u001b[0m\u001b[1;33m[\u001b[0m\u001b[1;33m:\u001b[0m\u001b[1;33m:\u001b[0m\u001b[1;33m-\u001b[0m\u001b[1;36m1\u001b[0m\u001b[1;33m]\u001b[0m\u001b[1;33m,\u001b[0m \u001b[0mm\u001b[0m\u001b[1;33m[\u001b[0m\u001b[1;36m2\u001b[0m\u001b[1;33m:\u001b[0m\u001b[1;33m]\u001b[0m\u001b[1;33m]\u001b[0m\u001b[1;33m)\u001b[0m \u001b[1;32mfor\u001b[0m \u001b[0mm\u001b[0m \u001b[1;32min\u001b[0m \u001b[0mordinal_train\u001b[0m\u001b[1;33m]\u001b[0m\u001b[1;33m\u001b[0m\u001b[1;33m\u001b[0m\u001b[0m\n\u001b[0;32m      5\u001b[0m \u001b[1;33m\u001b[0m\u001b[0m\n",
      "\u001b[1;31mNameError\u001b[0m: name 'y_check' is not defined"
     ]
    }
   ],
   "source": [
    "model_ordinal.fit(X_train_pls, np.ravel(y_check))\n",
    "\n",
    "ordinal_train = model_ordinal.predict_proba(X_test_pls)\n",
    "ordinal_train = [np.concatenate([m[:2][::-1], m[2:]]) for m in ordinal_train]\n",
    "\n",
    "print(rps_metric(y_test, lda_res))"
   ]
  },
  {
   "cell_type": "code",
   "execution_count": null,
   "metadata": {},
   "outputs": [],
   "source": [
    "print(rps_metric(y_test[37:44], lda_res[37:44]))"
   ]
  },
  {
   "cell_type": "code",
   "execution_count": null,
   "metadata": {},
   "outputs": [],
   "source": [
    "y_test.size"
   ]
  },
  {
   "cell_type": "code",
   "execution_count": null,
   "metadata": {},
   "outputs": [],
   "source": [
    "print(lda_res[40:50])\n",
    "print(y_test[40:50])\n",
    "\n",
    "bettor = X_test[[\"1xBet_odd_x_last\", \"1xBet_odd_1_last\", \"1xBet_odd_2_last\"]][40:50]\n",
    "rps_metric(y_test[40:50], bettor.values.tolist())"
   ]
  },
  {
   "cell_type": "code",
   "execution_count": null,
   "metadata": {},
   "outputs": [],
   "source": [
    "bettor.values.tolist()"
   ]
  },
  {
   "cell_type": "code",
   "execution_count": null,
   "metadata": {},
   "outputs": [],
   "source": [
    "X_test.columns[200:250]"
   ]
  },
  {
   "cell_type": "code",
   "execution_count": 227,
   "metadata": {},
   "outputs": [
    {
     "name": "stderr",
     "output_type": "stream",
     "text": [
      "A column-vector y was passed when a 1d array was expected. Please change the shape of y to (n_samples, ), for example using ravel().\n"
     ]
    },
    {
     "data": {
      "text/plain": [
       "0.2095"
      ]
     },
     "execution_count": 227,
     "metadata": {},
     "output_type": "execute_result"
    }
   ],
   "source": [
    "model_multi = LogisticRegression(multi_class='multinomial',\n",
    "    solver='lbfgs',\n",
    "    class_weight='balanced', max_iter = 100000)\n",
    "\n",
    "model_multi.fit(X_train_pls, y_train)\n",
    "\n",
    "ls_train = model_multi.predict_proba(X_train_pls)\n",
    "rps_metric(y_train, ls_train)\n",
    "\n",
    "ls_test = model_multi.predict_proba(X_test_pls)\n",
    "rps_metric(y_test, ls_test)\n"
   ]
  },
  {
   "cell_type": "code",
   "execution_count": 46,
   "metadata": {},
   "outputs": [
    {
     "name": "stderr",
     "output_type": "stream",
     "text": [
      "A column-vector y was passed when a 1d array was expected. Please change the shape of y to (n_samples, ), for example using ravel().\n"
     ]
    },
    {
     "data": {
      "text/plain": [
       "LogisticRegressionCV(Cs=array([3.30082376e-04, 1.04381213e+00, 3.30082376e+03]),\n",
       "                     class_weight=None,\n",
       "                     cv=StratifiedKFold(n_splits=8, random_state=7, shuffle=True),\n",
       "                     dual=False, fit_intercept=True, intercept_scaling=1.0,\n",
       "                     l1_ratios=None, max_iter=10000, multi_class='auto',\n",
       "                     n_jobs=None, penalty='l1', random_state=42, refit=True,\n",
       "                     scoring=None, solver='saga', tol=0.0001, verbose=0)"
      ]
     },
     "execution_count": 46,
     "metadata": {},
     "output_type": "execute_result"
    }
   ],
   "source": [
    "from sklearn.linear_model import LogisticRegressionCV\n",
    "kfold = StratifiedKFold(n_splits=8, shuffle=True, random_state=7)\n",
    "from sklearn.svm import l1_min_c    \n",
    "\n",
    "\n",
    "alphas = l1_min_c(X_train_pls, y_train, loss='log') * np.logspace(0, 7, 3)\n",
    "model = LogisticRegressionCV(Cs=alphas, cv=kfold, random_state=42, \n",
    "                        penalty='l1', solver='saga', max_iter = 10000)\n",
    "\n",
    "model.fit(X_train_pls,y_train)\n"
   ]
  },
  {
   "cell_type": "code",
   "execution_count": 47,
   "metadata": {},
   "outputs": [
    {
     "name": "stderr",
     "output_type": "stream",
     "text": [
      "A column-vector y was passed when a 1d array was expected. Please change the shape of y to (n_samples, ), for example using ravel().\n"
     ]
    },
    {
     "name": "stdout",
     "output_type": "stream",
     "text": [
      "0.19795337652139772\n",
      "0.21271377777777778\n"
     ]
    },
    {
     "name": "stderr",
     "output_type": "stream",
     "text": [
      "A column-vector y was passed when a 1d array was expected. Please change the shape of y to (n_samples, ), for example using ravel().\n"
     ]
    },
    {
     "name": "stdout",
     "output_type": "stream",
     "text": [
      "0.19845966234786022\n",
      "0.22559822222222223\n"
     ]
    }
   ],
   "source": [
    "model.fit(X_train_pls,y_train)\n",
    "\n",
    "lda_res = model.predict_proba(X_train_pls)\n",
    "print(rps_metric(y_train, lda_res))\n",
    "\n",
    "lda_res = model.predict_proba(X_test_pls)\n",
    "print(rps_metric(y_test, lda_res))\n",
    "\n",
    "model.fit(X_train_PCA,y_train)\n",
    "\n",
    "lda_res = model.predict_proba(X_train_PCA)\n",
    "print(rps_metric(y_train, lda_res))\n",
    "\n",
    "lda_res = model.predict_proba(X_test_PCA)\n",
    "print(rps_metric(y_test, lda_res))\n",
    "\n"
   ]
  },
  {
   "cell_type": "code",
   "execution_count": 71,
   "metadata": {},
   "outputs": [
    {
     "ename": "ValueError",
     "evalue": "operands could not be broadcast together with shapes (45,476) (79,) (45,476) ",
     "output_type": "error",
     "traceback": [
      "\u001b[1;31m---------------------------------------------------------------------------\u001b[0m",
      "\u001b[1;31mValueError\u001b[0m                                Traceback (most recent call last)",
      "\u001b[1;32m<ipython-input-71-2f69c6357ca4>\u001b[0m in \u001b[0;36m<module>\u001b[1;34m\u001b[0m\n\u001b[0;32m      1\u001b[0m \u001b[1;31m#X_test_PCA = pca.transform(X_test)\u001b[0m\u001b[1;33m\u001b[0m\u001b[1;33m\u001b[0m\u001b[1;33m\u001b[0m\u001b[0m\n\u001b[1;32m----> 2\u001b[1;33m \u001b[0mX_test_pls\u001b[0m \u001b[1;33m=\u001b[0m \u001b[0mpls2\u001b[0m\u001b[1;33m.\u001b[0m\u001b[0mtransform\u001b[0m\u001b[1;33m(\u001b[0m\u001b[0mX_test\u001b[0m\u001b[1;33m)\u001b[0m\u001b[1;33m\u001b[0m\u001b[1;33m\u001b[0m\u001b[0m\n\u001b[0m\u001b[0;32m      3\u001b[0m \u001b[1;33m\u001b[0m\u001b[0m\n\u001b[0;32m      4\u001b[0m \u001b[0mlda_res\u001b[0m \u001b[1;33m=\u001b[0m \u001b[0mmodel\u001b[0m\u001b[1;33m.\u001b[0m\u001b[0mpredict_proba\u001b[0m\u001b[1;33m(\u001b[0m\u001b[0mX_test_pls\u001b[0m\u001b[1;33m)\u001b[0m\u001b[1;33m\u001b[0m\u001b[1;33m\u001b[0m\u001b[0m\n\u001b[0;32m      5\u001b[0m \u001b[1;33m\u001b[0m\u001b[0m\n",
      "\u001b[1;32m~\\AppData\\Local\\Continuum\\anaconda3\\envs\\erdem\\lib\\site-packages\\sklearn\\cross_decomposition\\_pls.py\u001b[0m in \u001b[0;36mtransform\u001b[1;34m(self, X, Y, copy)\u001b[0m\n\u001b[0;32m    431\u001b[0m         \u001b[0mX\u001b[0m \u001b[1;33m=\u001b[0m \u001b[0mcheck_array\u001b[0m\u001b[1;33m(\u001b[0m\u001b[0mX\u001b[0m\u001b[1;33m,\u001b[0m \u001b[0mcopy\u001b[0m\u001b[1;33m=\u001b[0m\u001b[0mcopy\u001b[0m\u001b[1;33m,\u001b[0m \u001b[0mdtype\u001b[0m\u001b[1;33m=\u001b[0m\u001b[0mFLOAT_DTYPES\u001b[0m\u001b[1;33m)\u001b[0m\u001b[1;33m\u001b[0m\u001b[1;33m\u001b[0m\u001b[0m\n\u001b[0;32m    432\u001b[0m         \u001b[1;31m# Normalize\u001b[0m\u001b[1;33m\u001b[0m\u001b[1;33m\u001b[0m\u001b[1;33m\u001b[0m\u001b[0m\n\u001b[1;32m--> 433\u001b[1;33m         \u001b[0mX\u001b[0m \u001b[1;33m-=\u001b[0m \u001b[0mself\u001b[0m\u001b[1;33m.\u001b[0m\u001b[0mx_mean_\u001b[0m\u001b[1;33m\u001b[0m\u001b[1;33m\u001b[0m\u001b[0m\n\u001b[0m\u001b[0;32m    434\u001b[0m         \u001b[0mX\u001b[0m \u001b[1;33m/=\u001b[0m \u001b[0mself\u001b[0m\u001b[1;33m.\u001b[0m\u001b[0mx_std_\u001b[0m\u001b[1;33m\u001b[0m\u001b[1;33m\u001b[0m\u001b[0m\n\u001b[0;32m    435\u001b[0m         \u001b[1;31m# Apply rotation\u001b[0m\u001b[1;33m\u001b[0m\u001b[1;33m\u001b[0m\u001b[1;33m\u001b[0m\u001b[0m\n",
      "\u001b[1;31mValueError\u001b[0m: operands could not be broadcast together with shapes (45,476) (79,) (45,476) "
     ]
    }
   ],
   "source": [
    "#X_test_PCA = pca.transform(X_test)\n",
    "X_test_pls = pls2.transform(X_test)\n",
    "\n",
    "lda_res = model.predict_proba(X_test_pls)\n",
    "\n",
    "rps_metric(y_test, lda_res)"
   ]
  },
  {
   "cell_type": "code",
   "execution_count": 45,
   "metadata": {},
   "outputs": [],
   "source": [
    "from sklearn.ensemble import RandomForestClassifier, RandomForestRegressor\n",
    "from sklearn.preprocessing import LabelEncoder\n",
    "from sklearn.model_selection import GridSearchCV, StratifiedKFold\n",
    "from xgboost import XGBClassifier, XGBRegressor\n",
    "\n",
    "\n",
    "import numpy as np"
   ]
  },
  {
   "cell_type": "code",
   "execution_count": 172,
   "metadata": {},
   "outputs": [],
   "source": [
    "x_model = XGBClassifier(needs_proba=True)\n",
    "kfold = StratifiedKFold(n_splits=8, shuffle=True, random_state=7)\n",
    "\n",
    "scorer = make_scorer(rps_metric, \n",
    "                     greater_is_better=False, \n",
    "                     needs_proba=True)\n",
    "\n",
    "parameters = {'nthread':[4], #when use hyperthread, xgboost may become slower\n",
    "              'objective':['multi:softprob'],\n",
    "              'learning_rate': [0.01], #so called `eta` value\n",
    "              'max_depth': [2],\n",
    "              'min_child_weight': [7],\n",
    "              'silent': [1],\n",
    "              'subsample': [0.6],\n",
    "              'colsample_bytree': [0.7],\n",
    "              'n_estimators': [1000], #number of trees, change it to 1000 for better results\n",
    "              'seed': [1337]}\n",
    "\n",
    "xgb = GridSearchCV(x_model, parameters, n_jobs=-1, \n",
    "                   cv=kfold, \n",
    "                   scoring= scorer,\n",
    "                   verbose=2, refit=True)"
   ]
  },
  {
   "cell_type": "code",
   "execution_count": 173,
   "metadata": {},
   "outputs": [
    {
     "name": "stdout",
     "output_type": "stream",
     "text": [
      "Fitting 8 folds for each of 1 candidates, totalling 8 fits\n"
     ]
    },
    {
     "name": "stderr",
     "output_type": "stream",
     "text": [
      "[Parallel(n_jobs=-1)]: Using backend LokyBackend with 4 concurrent workers.\n",
      "[Parallel(n_jobs=-1)]: Done   6 out of   8 | elapsed:   35.2s remaining:   11.7s\n",
      "[Parallel(n_jobs=-1)]: Done   8 out of   8 | elapsed:   35.3s finished\n",
      "A column-vector y was passed when a 1d array was expected. Please change the shape of y to (n_samples, ), for example using ravel().\n",
      "A column-vector y was passed when a 1d array was expected. Please change the shape of y to (n_samples, ), for example using ravel().\n"
     ]
    },
    {
     "data": {
      "text/plain": [
       "GridSearchCV(cv=StratifiedKFold(n_splits=8, random_state=7, shuffle=True),\n",
       "             error_score=nan,\n",
       "             estimator=XGBClassifier(base_score=0.5, booster='gbtree',\n",
       "                                     colsample_bylevel=1, colsample_bynode=1,\n",
       "                                     colsample_bytree=1, gamma=0,\n",
       "                                     learning_rate=0.1, max_delta_step=0,\n",
       "                                     max_depth=3, min_child_weight=1,\n",
       "                                     missing=None, n_estimators=100, n_jobs=1,\n",
       "                                     needs_proba=True, nthread=None,\n",
       "                                     objec...\n",
       "             param_grid={'colsample_bytree': [0.7], 'learning_rate': [0.01],\n",
       "                         'max_depth': [2], 'min_child_weight': [7],\n",
       "                         'n_estimators': [1000], 'nthread': [4],\n",
       "                         'objective': ['multi:softprob'], 'seed': [1337],\n",
       "                         'silent': [1], 'subsample': [0.6]},\n",
       "             pre_dispatch='2*n_jobs', refit=True, return_train_score=False,\n",
       "             scoring=make_scorer(rps_metric, greater_is_better=False, needs_proba=True),\n",
       "             verbose=2)"
      ]
     },
     "execution_count": 173,
     "metadata": {},
     "output_type": "execute_result"
    }
   ],
   "source": [
    "xgb.fit(X_train_pls, y_train)"
   ]
  },
  {
   "cell_type": "code",
   "execution_count": 174,
   "metadata": {},
   "outputs": [
    {
     "name": "stdout",
     "output_type": "stream",
     "text": [
      "0.17888933647428348\n",
      "0.2072926666666667\n"
     ]
    }
   ],
   "source": [
    "lda_res = xgb.predict_proba(X_train_pls)\n",
    "\n",
    "print(rps_metric(y_train, lda_res))\n",
    "\n",
    "\n",
    "lda_res = xgb.predict_proba(X_test_pls)\n",
    "\n",
    "print(rps_metric(y_test, lda_res))\n"
   ]
  },
  {
   "cell_type": "code",
   "execution_count": 20,
   "metadata": {},
   "outputs": [
    {
     "data": {
      "text/plain": [
       "-0.2043857144846316"
      ]
     },
     "execution_count": 20,
     "metadata": {},
     "output_type": "execute_result"
    }
   ],
   "source": [
    "xgb.best_params_\n",
    "xgb.best_score_"
   ]
  },
  {
   "cell_type": "code",
   "execution_count": 107,
   "metadata": {},
   "outputs": [
    {
     "data": {
      "text/plain": [
       "{'colsample_bytree': 0.7,\n",
       " 'learning_rate': 0.01,\n",
       " 'max_depth': 2,\n",
       " 'min_child_weight': 7,\n",
       " 'n_estimators': 1000,\n",
       " 'nthread': 4,\n",
       " 'objective': 'multi:softprob',\n",
       " 'seed': 1337,\n",
       " 'silent': 1,\n",
       " 'subsample': 0.6}"
      ]
     },
     "execution_count": 107,
     "metadata": {},
     "output_type": "execute_result"
    }
   ],
   "source": [
    "xgb.best_params_"
   ]
  },
  {
   "cell_type": "code",
   "execution_count": 235,
   "metadata": {},
   "outputs": [
    {
     "name": "stdout",
     "output_type": "stream",
     "text": [
      "0.17888933647428348\n",
      "0.16388441303494306\n"
     ]
    }
   ],
   "source": [
    "xgb_train = xgb.predict_proba(X_train_pls)\n",
    "\n",
    "xgb_test = xgb.predict_proba(X_test_pls)\n",
    "\n",
    "print(rps_metric(y_train, xgb_train))\n",
    "print(rps_metric(y_train, rf_train))\n"
   ]
  },
  {
   "cell_type": "code",
   "execution_count": 239,
   "metadata": {},
   "outputs": [
    {
     "name": "stdout",
     "output_type": "stream",
     "text": [
      "0.17245025520219867\n"
     ]
    }
   ],
   "source": [
    "lda_res = (0.8*xgb_train + 2.5*rf_train)/3\n",
    "\n",
    "print(rps_metric(y_train, lda_res))\n"
   ]
  },
  {
   "cell_type": "code",
   "execution_count": 230,
   "metadata": {},
   "outputs": [],
   "source": [
    "ordinal_test = np.asarray(ordinal_test)\n",
    "ordinal_train = np.asarray(ordinal_train)\n"
   ]
  }
 ],
 "metadata": {
  "kernelspec": {
   "display_name": "Python 3",
   "language": "python",
   "name": "python3"
  },
  "language_info": {
   "codemirror_mode": {
    "name": "ipython",
    "version": 3
   },
   "file_extension": ".py",
   "mimetype": "text/x-python",
   "name": "python",
   "nbconvert_exporter": "python",
   "pygments_lexer": "ipython3",
   "version": "3.7.5"
  }
 },
 "nbformat": 4,
 "nbformat_minor": 2
}
